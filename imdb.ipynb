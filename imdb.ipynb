{
 "cells": [
  {
   "cell_type": "code",
   "execution_count": 1,
   "metadata": {},
   "outputs": [],
   "source": [
    "import numpy as np # linear algebra\n",
    "import pandas as pd # data processing, CSV file I/O (e.g. pd.read_csv)\n",
    "import torch\n",
    "import torch.nn as nn\n",
    "import torch.nn.functional as F\n",
    "from collections import Counter\n",
    "import string\n",
    "import re\n",
    "from tqdm import tqdm\n",
    "import matplotlib.pyplot as plt\n",
    "from torch.utils.data import TensorDataset, DataLoader\n",
    "from sklearn.model_selection import train_test_split\n",
    "import warnings\n",
    "warnings.filterwarnings(\"ignore\")"
   ]
  },
  {
   "cell_type": "code",
   "execution_count": 2,
   "metadata": {},
   "outputs": [],
   "source": [
    "import plotly.graph_objects as go\n",
    "from plotly.subplots import make_subplots"
   ]
  },
  {
   "cell_type": "code",
   "execution_count": 3,
   "metadata": {},
   "outputs": [
    {
     "name": "stdout",
     "output_type": "stream",
     "text": [
      "GPU is available\n"
     ]
    }
   ],
   "source": [
    "init_scale = 6.0\n",
    "\n",
    "seed = 0\n",
    "np.random.seed(seed)\n",
    "torch.manual_seed(seed)\n",
    "\n",
    "alpha = init_scale\n",
    "\n",
    "is_cuda = torch.cuda.is_available()\n",
    "\n",
    "# If we have a GPU available, we'll set our device to GPU. We'll use this device variable later in our code.\n",
    "if is_cuda:\n",
    "    device = torch.device(\"cuda\")\n",
    "    print(\"GPU is available\")\n",
    "else:\n",
    "    device = torch.device(\"cpu\")\n",
    "    print(\"GPU not available, CPU used\")"
   ]
  },
  {
   "cell_type": "code",
   "execution_count": 4,
   "metadata": {},
   "outputs": [
    {
     "name": "stdout",
     "output_type": "stream",
     "text": [
      "shape of train data is (750,)\n",
      "shape of test data is (250,)\n"
     ]
    }
   ],
   "source": [
    "size = 1000\n",
    "# size=10\n",
    "\n",
    "base_csv = './IMDB Dataset.csv'\n",
    "df = pd.read_csv(base_csv)\n",
    "\n",
    "X,y = df[:size]['review'].values,df[:size]['sentiment'].values\n",
    "x_train,x_test,y_train,y_test = train_test_split(X,y,stratify=y)\n",
    "print(f'shape of train data is {x_train.shape}')\n",
    "print(f'shape of test data is {x_test.shape}')"
   ]
  },
  {
   "cell_type": "code",
   "execution_count": 5,
   "metadata": {},
   "outputs": [],
   "source": [
    "def preprocess_string(s):\n",
    "    # Remove all non-word characters (everything except numbers and letters)\n",
    "    s = re.sub(r\"[^\\w\\s]\", '', s)\n",
    "    # Replace all runs of whitespaces with no space\n",
    "    s = re.sub(r\"\\s+\", '', s)\n",
    "    # replace digits with no space\n",
    "    s = re.sub(r\"\\d\", '', s)\n",
    "\n",
    "    return s"
   ]
  },
  {
   "cell_type": "code",
   "execution_count": 6,
   "metadata": {},
   "outputs": [],
   "source": [
    "def tockenize(x_train,y_train,x_val,y_val):\n",
    "    word_list = []\n",
    "    stop_words = {'a', 'about', 'above', 'after', 'again', 'against', 'ain', 'all', 'am', 'an', 'and', 'any', 'are', 'aren', \"aren't\", 'as', 'at', 'be', 'because', 'been', 'before', 'being', 'below', 'between', 'both', 'but', 'by', 'can', 'couldn', \"couldn't\", 'd', 'did', 'didn', \"didn't\", 'do', 'does', 'doesn', \"doesn't\", 'doing', 'don', \"don't\", 'down', 'during', 'each', 'few', 'for', 'from', 'further', 'had', 'hadn', \"hadn't\", 'has', 'hasn', \"hasn't\", 'have', 'haven', \"haven't\", 'having', 'he', 'her', 'here', 'hers', 'herself', 'him', 'himself', 'his', 'how', 'i', 'if', 'in', 'into', 'is', 'isn', \"isn't\", 'it', \"it's\", 'its', 'itself', 'just', 'll', 'm', 'ma', 'me', 'mightn', \"mightn't\", 'more', 'most', 'mustn', \"mustn't\", 'my', 'myself', 'needn', \"needn't\", 'no', 'nor', 'not', 'now', 'o', 'of', 'off', 'on', 'once', 'only', 'or', 'other', 'our', 'ours', 'ourselves', 'out', 'over', 'own', 're', 's', 'same', 'shan', \"shan't\", 'she', \"she's\", 'should', \"should've\", 'shouldn', \"shouldn't\", 'so', 'some', 'such', 't', 'than', 'that', \"that'll\", 'the', 'their', 'theirs', 'them', 'themselves', 'then', 'there', 'these', 'they', 'this', 'those', 'through', 'to', 'too', 'under', 'until', 'up', 've', 'very', 'was', 'wasn', \"wasn't\", 'we', 'were', 'weren', \"weren't\", 'what', 'when', 'where', 'which', 'while', 'who', 'whom', 'why', 'will', 'with', 'won', \"won't\", 'wouldn', \"wouldn't\", 'y', 'you', \"you'd\", \"you'll\", \"you're\", \"you've\", 'your', 'yours', 'yourself', 'yourselves'}\n",
    "    for sent in x_train:\n",
    "        for word in sent.lower().split():\n",
    "            word = preprocess_string(word)\n",
    "            if word not in stop_words and word != '':\n",
    "                word_list.append(word)\n",
    "\n",
    "    corpus = Counter(word_list)\n",
    "    # sorting on the basis of most common words\n",
    "    corpus_ = sorted(corpus,key=corpus.get,reverse=True)[:1000]\n",
    "    # creating a dict\n",
    "    onehot_dict = {w:i+1 for i,w in enumerate(corpus_)}\n",
    "\n",
    "    # tockenize\n",
    "    final_list_train,final_list_test = [],[]\n",
    "    for sent in x_train:\n",
    "            final_list_train.append([onehot_dict[preprocess_string(word)] for word in sent.lower().split() \n",
    "                                        if preprocess_string(word) in onehot_dict.keys()])\n",
    "    for sent in x_val:\n",
    "            final_list_test.append([onehot_dict[preprocess_string(word)] for word in sent.lower().split() \n",
    "                                    if preprocess_string(word) in onehot_dict.keys()])\n",
    "\n",
    "    encoded_train = [1 if label =='positive' else 0 for label in y_train]  \n",
    "    encoded_test = [1 if label =='positive' else 0 for label in y_val] \n",
    "    # return np.array(final_list_train), np.array(encoded_train),np.array(final_list_test), np.array(encoded_test),onehot_dict\n",
    "    return final_list_train, encoded_train, final_list_test, encoded_test, onehot_dict"
   ]
  },
  {
   "cell_type": "code",
   "execution_count": 7,
   "metadata": {},
   "outputs": [],
   "source": [
    "x_train,y_train,x_test,y_test,vocab = tockenize(x_train,y_train,x_test,y_test)"
   ]
  },
  {
   "cell_type": "code",
   "execution_count": 8,
   "metadata": {},
   "outputs": [],
   "source": [
    "def padding_(sentences, seq_len):\n",
    "    features = np.zeros((len(sentences), seq_len),dtype=int)\n",
    "    for ii, review in enumerate(sentences):\n",
    "        if len(review) != 0:\n",
    "            features[ii, -len(review):] = np.array(review)[:seq_len]\n",
    "    return features"
   ]
  },
  {
   "cell_type": "code",
   "execution_count": 9,
   "metadata": {},
   "outputs": [],
   "source": [
    "#we have very less number of reviews with length > 500.\n",
    "#So we will consider only those below it.\n",
    "x_train_pad = padding_(x_train,500)\n",
    "x_test_pad = padding_(x_test,500)"
   ]
  },
  {
   "cell_type": "code",
   "execution_count": 10,
   "metadata": {},
   "outputs": [],
   "source": [
    "# convert to numpy\n",
    "x_train_pad = np.array(x_train_pad)\n",
    "y_train = np.array(y_train)\n",
    "x_test_pad = np.array(x_test_pad)\n",
    "y_test = np.array(y_test)"
   ]
  },
  {
   "cell_type": "code",
   "execution_count": 11,
   "metadata": {},
   "outputs": [],
   "source": [
    "# create Tensor datasets\n",
    "train_data = TensorDataset(torch.from_numpy(x_train_pad), torch.from_numpy(y_train))\n",
    "valid_data = TensorDataset(torch.from_numpy(x_test_pad), torch.from_numpy(y_test))\n",
    "\n",
    "# dataloaders\n",
    "# batch_size = 50\n",
    "batch_size = 125\n",
    "\n",
    "# make sure to SHUFFLE your data\n",
    "train_loader = DataLoader(train_data, shuffle=True, batch_size=batch_size)\n",
    "valid_loader = DataLoader(valid_data, shuffle=True, batch_size=batch_size)"
   ]
  },
  {
   "cell_type": "code",
   "execution_count": 12,
   "metadata": {},
   "outputs": [
    {
     "name": "stdout",
     "output_type": "stream",
     "text": [
      "torch.Size([125, 500])\n",
      "torch.Size([125])\n"
     ]
    }
   ],
   "source": [
    "for x, y in train_loader:\n",
    "    print(x.shape)\n",
    "    print(y.shape)\n",
    "    break"
   ]
  },
  {
   "cell_type": "code",
   "execution_count": 13,
   "metadata": {},
   "outputs": [],
   "source": [
    "def L2(model):\n",
    "    L2_ = 0.\n",
    "    for p in model.parameters():\n",
    "        L2_ += torch.sum(p**2)\n",
    "    return L2_\n",
    "\n",
    "def rescale(model, alpha):\n",
    "    for p in model.parameters():\n",
    "        p.data = alpha * p.data"
   ]
  },
  {
   "cell_type": "code",
   "execution_count": 14,
   "metadata": {},
   "outputs": [],
   "source": [
    "no_layers = 2\n",
    "vocab_size = len(vocab) + 1 #extra 1 for padding\n",
    "embedding_dim = 64\n",
    "output_dim = 1\n",
    "hidden_dim = 256\n",
    "wd = 1"
   ]
  },
  {
   "cell_type": "code",
   "execution_count": 15,
   "metadata": {},
   "outputs": [],
   "source": [
    "class SentimentRNN(nn.Module):\n",
    "    \n",
    "    def __init__(self,no_layers,vocab_size,hidden_dim,embedding_dim,drop_prob=0.0):\n",
    "        super(SentimentRNN,self).__init__()\n",
    "\n",
    "        self.output_dim = output_dim\n",
    "        self.hidden_dim = hidden_dim\n",
    "\n",
    "        self.no_layers = no_layers\n",
    "        self.vocab_size = vocab_size\n",
    "\n",
    "        # embedding and LSTM layers\n",
    "        self.embedding = nn.Embedding(vocab_size, embedding_dim)\n",
    "\n",
    "        #lstm\n",
    "        self.lstm = nn.LSTM(input_size=embedding_dim,hidden_size=self.hidden_dim,\n",
    "                            num_layers=no_layers, batch_first=True)\n",
    "\n",
    "\n",
    "        # dropout layer\n",
    "        self.dropout = nn.Dropout(drop_prob)\n",
    "\n",
    "        # linear and sigmoid layer\n",
    "        self.fc = nn.Linear(self.hidden_dim, output_dim)\n",
    "        self.sig = nn.Sigmoid()\n",
    "\n",
    "    def forward(self,x,hidden):\n",
    "        batch_size = x.size(0)\n",
    "        # embeddings and lstm_out\n",
    "        embeds = self.embedding(x)  # shape: B x S x Feature   since batch = True\n",
    "        #print(embeds.shape)  #[50, 500, 1000]\n",
    "        lstm_out, hidden = self.lstm(embeds, hidden)\n",
    "\n",
    "        lstm_out = lstm_out.contiguous().view(-1, self.hidden_dim) \n",
    "\n",
    "        # dropout and fully connected layer\n",
    "        out = self.dropout(lstm_out)\n",
    "        out = self.fc(out)\n",
    "\n",
    "        # sigmoid function\n",
    "        sig_out = self.sig(out)\n",
    "\n",
    "        # reshape to be batch_size first\n",
    "        sig_out = sig_out.view(batch_size, -1)\n",
    "\n",
    "        sig_out = sig_out[:, -1] # get last batch of labels\n",
    "\n",
    "        # return last sigmoid output and hidden state\n",
    "        return sig_out, hidden\n",
    "\n",
    "    def init_hidden(self, batch_size):\n",
    "        ''' Initializes hidden state '''\n",
    "        # Create two new tensors with sizes n_layers x batch_size x hidden_dim,\n",
    "        # initialized to zero, for hidden state and cell state of LSTM\n",
    "        h0 = torch.zeros((self.no_layers,batch_size,self.hidden_dim)).to(device)\n",
    "        c0 = torch.zeros((self.no_layers,batch_size,self.hidden_dim)).to(device)\n",
    "        hidden = (h0,c0)\n",
    "        return hidden"
   ]
  },
  {
   "cell_type": "code",
   "execution_count": 16,
   "metadata": {},
   "outputs": [],
   "source": [
    "def create_model():\n",
    "    global no_layers, vocab_size, hidden_dim, embedding_dim\n",
    "    m = SentimentRNN(no_layers,vocab_size,hidden_dim,embedding_dim,drop_prob=0.0).to(device)\n",
    "    rescale(m, alpha)\n",
    "    return m"
   ]
  },
  {
   "cell_type": "code",
   "execution_count": 17,
   "metadata": {},
   "outputs": [],
   "source": [
    "# function to predict accuracy\n",
    "def acc(pred,label):\n",
    "    pred = torch.round(pred.squeeze())\n",
    "    return torch.sum(pred == label.squeeze()).item()"
   ]
  },
  {
   "cell_type": "code",
   "execution_count": 18,
   "metadata": {},
   "outputs": [],
   "source": [
    "def model_pruner(base_model, kappa):\n",
    "    \"\"\"Prunes the weights of `base_model` to create a new model of the same class.\n",
    "    \"\"\"\n",
    "    edited_model = create_model()\n",
    "    state_dict = base_model.state_dict().copy()\n",
    "    for key in state_dict:\n",
    "        if 'weight' in key:\n",
    "            state_dict[key] = F.dropout(state_dict[key], p=kappa)\n",
    "    edited_model.load_state_dict(state_dict)\n",
    "    return edited_model\n",
    "\n",
    "def logit_kl_div(model1, model2, x_train, val_hidden):\n",
    "    # model1.eval()\n",
    "    # model2.eval()\n",
    "    logits1 = model1(x_train, val_hidden)[0] \n",
    "    logits2 = model2(x_train, val_hidden)[0]\n",
    "    p1 = torch.nn.functional.softmax(logits1) + 1e-8\n",
    "    p2 = torch.nn.functional.softmax(logits2) + 1e-8\n",
    "    kl_div = torch.sum(p1 * (torch.log(p1) - torch.log(p2)))\n",
    "    return torch.mean(kl_div)"
   ]
  },
  {
   "cell_type": "code",
   "execution_count": 19,
   "metadata": {},
   "outputs": [],
   "source": [
    "def smooth_entropy(model):\n",
    "    return -torch.sum(torch.abs(model.fc.weight) * torch.log(torch.abs(model.fc.weight)))"
   ]
  },
  {
   "cell_type": "code",
   "execution_count": 23,
   "metadata": {},
   "outputs": [],
   "source": [
    "def smooth_sparsity(model, x_train, tau):\n",
    "    x_ = x_train.clone().reshape(-1, 62500)\n",
    "    beta = 0.1\n",
    "    return torch.mean(torch.abs(model(x_, model.init_hidden(x_.shape[0]))[0]))"
   ]
  },
  {
   "cell_type": "code",
   "execution_count": 24,
   "metadata": {},
   "outputs": [],
   "source": [
    "model = SentimentRNN(no_layers,vocab_size,hidden_dim,embedding_dim,drop_prob=0.0)\n",
    "\n",
    "#moving to gpu\n",
    "model.to(device)\n",
    "\n",
    "rescale(model, alpha)\n",
    "L2_ = L2(model)\n",
    "\n",
    "#print(model)\n",
    "\n",
    "# loss and optimization functions\n",
    "lr=0.0003\n",
    "\n",
    "criterion = nn.BCELoss()\n",
    "\n",
    "optimizer = torch.optim.AdamW(model.parameters(), lr=lr, weight_decay = wd)\n",
    "\n",
    "clip = 5\n",
    "epochs = 5000\n",
    "# epochs = 10\n",
    "log_freq = max(1, epochs / 50)\n",
    "train_loss_min = np.Inf\n",
    "valid_loss_min = np.Inf\n",
    "train_acc_max = 0.\n",
    "valid_acc_max = 0.\n",
    "# train for some number of epochs\n",
    "\n",
    "log = {\n",
    "    'log_steps': [],\n",
    "    'train_losses': [],\n",
    "    'test_losses': [],\n",
    "    'train_accuracies': [],\n",
    "    'test_accuracies': [],\n",
    "    'norms': [],\n",
    "    'sparsities': [],\n",
    "    'weights_entropies': [],\n",
    "    'greedy_circuit_complexities': [],\n",
    "}\n",
    "\n",
    "step = 0"
   ]
  },
  {
   "cell_type": "code",
   "execution_count": 25,
   "metadata": {},
   "outputs": [
    {
     "name": "stdout",
     "output_type": "stream",
     "text": [
      "step : 0 train_loss : 0.813 val_loss : 0.854 train_accuracy : 0.52 val_accuracy : 0.464\n",
      "step : 100 train_loss : 0.004 val_loss : 0.785 train_accuracy : 1.0 val_accuracy : 0.656\n",
      "step : 200 train_loss : 0.001 val_loss : 1.714 train_accuracy : 1.0 val_accuracy : 0.576\n",
      "step : 300 train_loss : 0.0 val_loss : 1.975 train_accuracy : 1.0 val_accuracy : 0.576\n",
      "step : 400 train_loss : 0.0 val_loss : 1.372 train_accuracy : 1.0 val_accuracy : 0.672\n",
      "step : 500 train_loss : 0.0 val_loss : 2.101 train_accuracy : 1.0 val_accuracy : 0.624\n",
      "step : 600 train_loss : 0.0 val_loss : 1.271 train_accuracy : 1.0 val_accuracy : 0.704\n",
      "step : 700 train_loss : 0.0 val_loss : 1.429 train_accuracy : 1.0 val_accuracy : 0.672\n",
      "step : 800 train_loss : 0.0 val_loss : 1.636 train_accuracy : 1.0 val_accuracy : 0.736\n",
      "step : 900 train_loss : 0.0 val_loss : 1.813 train_accuracy : 1.0 val_accuracy : 0.664\n",
      "step : 1000 train_loss : 0.0 val_loss : 1.512 train_accuracy : 1.0 val_accuracy : 0.688\n",
      "step : 1100 train_loss : 0.0 val_loss : 1.826 train_accuracy : 1.0 val_accuracy : 0.736\n",
      "step : 1200 train_loss : 0.0 val_loss : 1.664 train_accuracy : 1.0 val_accuracy : 0.712\n",
      "step : 1300 train_loss : 0.0 val_loss : 1.993 train_accuracy : 1.0 val_accuracy : 0.736\n",
      "step : 1400 train_loss : 0.0 val_loss : 2.787 train_accuracy : 1.0 val_accuracy : 0.608\n",
      "step : 1500 train_loss : 0.0 val_loss : 2.25 train_accuracy : 1.0 val_accuracy : 0.728\n",
      "step : 1600 train_loss : 0.32 val_loss : 1.676 train_accuracy : 0.904 val_accuracy : 0.632\n",
      "step : 1700 train_loss : 0.0 val_loss : 1.977 train_accuracy : 1.0 val_accuracy : 0.696\n",
      "step : 1800 train_loss : 0.0 val_loss : 2.16 train_accuracy : 1.0 val_accuracy : 0.696\n",
      "step : 1900 train_loss : 0.0 val_loss : 2.072 train_accuracy : 1.0 val_accuracy : 0.712\n",
      "step : 2000 train_loss : 0.0 val_loss : 2.331 train_accuracy : 1.0 val_accuracy : 0.656\n",
      "step : 2100 train_loss : 0.0 val_loss : 2.08 train_accuracy : 1.0 val_accuracy : 0.712\n",
      "step : 2200 train_loss : 0.0 val_loss : 2.158 train_accuracy : 1.0 val_accuracy : 0.688\n",
      "step : 2300 train_loss : 0.0 val_loss : 2.813 train_accuracy : 1.0 val_accuracy : 0.664\n",
      "step : 2400 train_loss : 0.0 val_loss : 2.456 train_accuracy : 1.0 val_accuracy : 0.656\n",
      "step : 2500 train_loss : 0.0 val_loss : 2.448 train_accuracy : 1.0 val_accuracy : 0.712\n",
      "step : 2600 train_loss : 0.0 val_loss : 1.736 train_accuracy : 1.0 val_accuracy : 0.736\n",
      "step : 2700 train_loss : 0.0 val_loss : 1.627 train_accuracy : 1.0 val_accuracy : 0.784\n",
      "step : 2800 train_loss : 0.0 val_loss : 2.274 train_accuracy : 1.0 val_accuracy : 0.704\n",
      "step : 2900 train_loss : 0.0 val_loss : 1.84 train_accuracy : 1.0 val_accuracy : 0.736\n",
      "step : 3000 train_loss : 0.0 val_loss : 2.074 train_accuracy : 1.0 val_accuracy : 0.672\n",
      "step : 3100 train_loss : 0.0 val_loss : 2.021 train_accuracy : 1.0 val_accuracy : 0.704\n",
      "step : 3200 train_loss : 0.0 val_loss : 2.033 train_accuracy : 1.0 val_accuracy : 0.68\n",
      "step : 3300 train_loss : 0.0 val_loss : 2.541 train_accuracy : 1.0 val_accuracy : 0.696\n",
      "step : 3400 train_loss : 0.0 val_loss : 2.194 train_accuracy : 1.0 val_accuracy : 0.728\n",
      "step : 3500 train_loss : 0.0 val_loss : 2.224 train_accuracy : 1.0 val_accuracy : 0.672\n",
      "step : 3600 train_loss : 0.0 val_loss : 2.056 train_accuracy : 1.0 val_accuracy : 0.72\n",
      "step : 3700 train_loss : 0.0 val_loss : 2.193 train_accuracy : 1.0 val_accuracy : 0.688\n",
      "step : 3800 train_loss : 0.0 val_loss : 1.893 train_accuracy : 1.0 val_accuracy : 0.712\n",
      "step : 3900 train_loss : 0.0 val_loss : 2.015 train_accuracy : 1.0 val_accuracy : 0.72\n",
      "step : 4000 train_loss : 0.0 val_loss : 2.579 train_accuracy : 1.0 val_accuracy : 0.632\n",
      "step : 4100 train_loss : 0.0 val_loss : 3.001 train_accuracy : 1.0 val_accuracy : 0.608\n",
      "step : 4200 train_loss : 0.0 val_loss : 2.548 train_accuracy : 1.0 val_accuracy : 0.672\n",
      "step : 4300 train_loss : 0.0 val_loss : 2.307 train_accuracy : 1.0 val_accuracy : 0.704\n",
      "step : 4400 train_loss : 0.69 val_loss : 0.669 train_accuracy : 0.544 val_accuracy : 0.72\n",
      "step : 4500 train_loss : 0.0 val_loss : 1.834 train_accuracy : 1.0 val_accuracy : 0.712\n",
      "step : 4600 train_loss : 0.0 val_loss : 2.341 train_accuracy : 1.0 val_accuracy : 0.664\n",
      "step : 4700 train_loss : 0.001 val_loss : 1.636 train_accuracy : 1.0 val_accuracy : 0.704\n",
      "step : 4800 train_loss : 0.0 val_loss : 2.017 train_accuracy : 1.0 val_accuracy : 0.712\n",
      "step : 4900 train_loss : 0.0 val_loss : 2.142 train_accuracy : 1.0 val_accuracy : 0.696\n"
     ]
    }
   ],
   "source": [
    "for epoch in range(epochs):\n",
    "    train_acc = 0.0\n",
    "    model.train()\n",
    "    # initialize hidden state \n",
    "    h = model.init_hidden(batch_size)\n",
    "    for inputs, labels in train_loader:\n",
    "        model.train()\n",
    "        inputs, labels = inputs.to(device), labels.to(device)\n",
    "        if inputs.shape[0] < batch_size:\n",
    "            h = model.init_hidden(inputs.shape[0])\n",
    "\n",
    "        # Creating new variables for the hidden state, otherwise\n",
    "        # we'd backprop through the entire training history\n",
    "        h = tuple([each.data for each in h])\n",
    "\n",
    "        model.zero_grad()\n",
    "        output,h = model(inputs,h)\n",
    "\n",
    "        # calculate the loss and perform backprop\n",
    "        loss = criterion(output.squeeze(), labels.float())\n",
    "        loss.backward()\n",
    "        if step % log_freq == 0: log['train_losses'].append(loss.item())\n",
    "        # calculating accuracy\n",
    "        accuracy = acc(output,labels)\n",
    "        train_acc = accuracy/inputs.shape[0]\n",
    "        #`clip_grad_norm` helps prevent the exploding gradient problem in RNNs / LSTMs.\n",
    "        nn.utils.clip_grad_norm_(model.parameters(), clip)\n",
    "        optimizer.step()\n",
    "        \n",
    "        val_h = model.init_hidden(batch_size)\n",
    "        model.eval()\n",
    "        inputs, labels = next(iter(valid_loader))\n",
    "        val_h = tuple([each.data for each in val_h])\n",
    "\n",
    "        inputs, labels = inputs.to(device), labels.to(device)\n",
    "\n",
    "        output, val_h = model(inputs, val_h)\n",
    "        val_loss = criterion(output.squeeze(), labels.float())\n",
    "\n",
    "        if step % log_freq == 0: log['test_losses'].append(val_loss.item())\n",
    "\n",
    "        accuracy = acc(output,labels)\n",
    "        val_acc = accuracy/batch_size\n",
    "    if step % log_freq == 0: \n",
    "        log['test_accuracies'].append(val_acc)\n",
    "        log['train_accuracies'].append(train_acc)\n",
    "        print(f'step : {step} train_loss : {round(loss.item(), 3)} val_loss : {round(val_loss.item(), 3)}', end=' ')\n",
    "        print(f'train_accuracy : {train_acc} val_accuracy : {val_acc}')\n",
    "        log['sparsities'].append(smooth_sparsity(model, inputs, tau=0.1))\n",
    "        log['weights_entropies'].append(smooth_entropy(model))\n",
    "        log['norms'].append(L2(model).item())\n",
    "        log['log_steps'].append(step)\n",
    "        log['greedy_circuit_complexities'].append(logit_kl_div(model, model_pruner(model, 0.5), inputs, val_h))\n",
    "        logit_kl_div(model, model_pruner(model, 0.5), inputs, val_h)\n",
    "\n",
    "    step += 1"
   ]
  },
  {
   "cell_type": "code",
   "execution_count": 39,
   "metadata": {},
   "outputs": [],
   "source": [
    "def moving_average(data, window_size):\n",
    "    return np.convolve(data, np.ones(window_size)/window_size, mode='valid')\n",
    "\n",
    "def dynamic_plot(log, window_size=10):\n",
    "    fig = make_subplots(specs=[[{\"secondary_y\": True}]])\n",
    "\n",
    "    # first, scale everything from 0 to 1 after converting to numpy\n",
    "    log_steps = np.array(log['log_steps'])\n",
    "    norms = np.array([n for n in log['norms']])\n",
    "    sparsities = np.array([s.cpu().detach() for s in log['sparsities']])\n",
    "    weights_entropies = np.array([w.cpu().detach() for w in log['weights_entropies']])\n",
    "    greedy_circuit_complexities = np.array([c.cpu().detach() for c in log['greedy_circuit_complexities']])\n",
    "    norms = (norms - min(norms)) / (max(norms) - min(norms) + 1e-8)\n",
    "    sparsities = (sparsities - min(sparsities)) / (max(sparsities) - min(sparsities) + 1e-8)\n",
    "    weights_entropies = (weights_entropies - min(weights_entropies)) / (max(weights_entropies) - min(weights_entropies) + 1e-8)\n",
    "    greedy_circuit_complexities = (greedy_circuit_complexities - min(greedy_circuit_complexities)) / (max(greedy_circuit_complexities) - min(greedy_circuit_complexities) + 1e-8)\n",
    "\n",
    "    # moving average for each of them\n",
    "    # fill\n",
    "    # Calculate moving averages\n",
    "    norms = moving_average(norms, window_size)\n",
    "    sparsities = moving_average(sparsities, window_size)\n",
    "    weights_entropies = moving_average(weights_entropies, window_size)\n",
    "    greedy_circuit_complexities = moving_average(greedy_circuit_complexities, window_size)\n",
    "\n",
    "    # Adjust log_steps to match the length of moving averages\n",
    "    log_steps_ma = log_steps[window_size - 1:]\n",
    "\n",
    "    fig.add_trace(go.Scatter(opacity=1, line_smoothing=0.8, x=log_steps, y=log['train_accuracies'], mode='lines', name='train accuracy', line=dict(width=4, color='red')),secondary_y=False,)\n",
    "    fig.add_trace(go.Scatter(opacity=1, line_smoothing=0.8, x=log_steps, y=log['test_accuracies'], mode='lines', name='test accuracy', line=dict(width=4, color='green')),secondary_y=False,)\n",
    "    fig.add_trace(go.Scatter(opacity=0.8, line_smoothing=0.8, x=log_steps, y=norms, mode='lines', name='weight norm (L2)', line=dict(width=2, color='purple')),secondary_y=True,)\n",
    "    fig.add_trace(go.Scatter(opacity=0.8, line_smoothing=0.8, x=log_steps, y=sparsities, mode='lines', name='activation sparsity', line=dict(width=2, color='blue')),secondary_y=True,)\n",
    "    fig.add_trace(go.Scatter(opacity=0.8, line_smoothing=0.8, x=log_steps, y=weights_entropies, mode='lines', name='weight entropy', line=dict(width=2, color='orange')),secondary_y=True,)\n",
    "    fig.add_trace(go.Scatter(opacity=0.8, line_smoothing=0.8, x=log_steps, y=greedy_circuit_complexities, mode='lines', name='local circuit complexity', line=dict(width=2, color='black')),secondary_y=True,)\n",
    "\n",
    "    fig.update_xaxes(title_text=\"Optimization Steps\", type='log')\n",
    "    fig.update_yaxes(title_text=\"<b>Normalized Measure</b>\", secondary_y=False)\n",
    "\n",
    "    fig.update_layout({'plot_bgcolor': 'rgba(255, 255, 255, 1)',})\n",
    "\n",
    "    fig.update_layout(\n",
    "        xaxis=dict(showgrid=True, gridwidth=1, gridcolor='LightGray'),\n",
    "        yaxis=dict(showgrid=True, gridwidth=1, gridcolor='LightGray'),\n",
    "    )\n",
    "\n",
    "    fig.update_layout(autosize=False, width=1000, height=600,)\n",
    "\n",
    "    fig.update_traces(line=dict(width=4))\n",
    "\n",
    "    # font size\n",
    "    fig.update_layout(legend = dict(font = dict(size = 20, color = \"black\")),\n",
    "                  legend_title = dict(font = dict(size = 20, color = \"blue\")))\n",
    "\n",
    "    return fig"
   ]
  },
  {
   "cell_type": "code",
   "execution_count": 40,
   "metadata": {},
   "outputs": [],
   "source": [
    "fig = dynamic_plot(log)\n",
    "path = './plots/decreasing_norm_imdb.pdf'\n",
    "fig.write_image(path)"
   ]
  },
  {
   "cell_type": "code",
   "execution_count": 36,
   "metadata": {},
   "outputs": [
    {
     "data": {
      "text/plain": [
       "tensor(0.0002, device='cuda:0', grad_fn=<MeanBackward0>)"
      ]
     },
     "execution_count": 36,
     "metadata": {},
     "output_type": "execute_result"
    }
   ],
   "source": [
    "smooth_sparsity(model, inputs, tau=0.1)"
   ]
  },
  {
   "cell_type": "code",
   "execution_count": null,
   "metadata": {},
   "outputs": [],
   "source": [
    "# train(1000, 1.0, 0.0)"
   ]
  },
  {
   "cell_type": "code",
   "execution_count": null,
   "metadata": {},
   "outputs": [
    {
     "data": {
      "text/plain": [
       "Text(1.2, 0.95, '$\\\\alpha=6$')"
      ]
     },
     "execution_count": 26,
     "metadata": {},
     "output_type": "execute_result"
    },
    {
     "data": {
      "image/png": "[encoded data removed]",
      "text/plain": [
       "<Figure size 420x420 with 1 Axes>"
      ]
     },
     "metadata": {},
     "output_type": "display_data"
    }
   ],
   "source": [
    "plt.figure(figsize=(4.2,4.2))\n",
    "\n",
    "plt.subplot(1,1,1)\n",
    "\n",
    "train_losses = np.loadtxt(\"./results_grok/trainacc_size_1000_scale_6.0000_wd_1.0000\")\n",
    "test_losses = np.loadtxt(\"./results_grok/testacc_size_1000_scale_6.0000_wd_1.0000\")\n",
    "\n",
    "plt.plot((np.arange(len(train_losses))+1)[::10], np.mean(np.array(train_losses).reshape(-1,10), axis=1), alpha=1.0)\n",
    "plt.plot((np.arange(len(test_losses))+1)[::200], np.mean(np.array(test_losses).reshape(-1,200), axis=1), alpha=1.0)\n",
    "plt.plot((np.arange(len(test_losses))+1)[::10], np.mean(np.array(test_losses).reshape(-1,10), axis=1), alpha=0.2, color=\"orange\")\n",
    "#plt.plot(test)\n",
    "plt.xscale('log')\n",
    "plt.xlim(1,)\n",
    "plt.ylim(0.4,1.05)\n",
    "#plt.plot([0,1e5],[0.5,0.5], ls=\"--\")\n",
    "plt.xlabel('steps', fontsize=15)\n",
    "plt.ylabel('accuracy', fontsize=15)\n",
    "plt.text(1.2,0.95,r\"$\\alpha=6$\", fontsize=15)"
   ]
  },
  {
   "cell_type": "code",
   "execution_count": null,
   "metadata": {},
   "outputs": [],
   "source": []
  },
  {
   "cell_type": "code",
   "execution_count": null,
   "metadata": {},
   "outputs": [],
   "source": []
  },
  {
   "cell_type": "code",
   "execution_count": null,
   "metadata": {},
   "outputs": [],
   "source": []
  },
  {
   "cell_type": "code",
   "execution_count": null,
   "metadata": {},
   "outputs": [],
   "source": []
  },
  {
   "cell_type": "code",
   "execution_count": null,
   "metadata": {},
   "outputs": [],
   "source": []
  },
  {
   "cell_type": "code",
   "execution_count": null,
   "metadata": {},
   "outputs": [],
   "source": []
  },
  {
   "cell_type": "code",
   "execution_count": null,
   "metadata": {},
   "outputs": [],
   "source": []
  },
  {
   "cell_type": "code",
   "execution_count": null,
   "metadata": {},
   "outputs": [],
   "source": []
  },
  {
   "cell_type": "code",
   "execution_count": null,
   "metadata": {},
   "outputs": [],
   "source": []
  },
  {
   "cell_type": "code",
   "execution_count": null,
   "metadata": {},
   "outputs": [],
   "source": []
  },
  {
   "cell_type": "code",
   "execution_count": null,
   "metadata": {},
   "outputs": [],
   "source": []
  },
  {
   "cell_type": "code",
   "execution_count": null,
   "metadata": {},
   "outputs": [],
   "source": []
  },
  {
   "cell_type": "code",
   "execution_count": null,
   "metadata": {},
   "outputs": [],
   "source": []
  },
  {
   "cell_type": "code",
   "execution_count": null,
   "metadata": {},
   "outputs": [],
   "source": []
  },
  {
   "cell_type": "code",
   "execution_count": null,
   "metadata": {},
   "outputs": [],
   "source": []
  },
  {
   "cell_type": "code",
   "execution_count": null,
   "metadata": {},
   "outputs": [],
   "source": []
  }
 ],
 "metadata": {
  "kernelspec": {
   "display_name": "Python 3 (ipykernel)",
   "language": "python",
   "name": "python3"
  },
  "language_info": {
   "codemirror_mode": {
    "name": "ipython",
    "version": 3
   },
   "file_extension": ".py",
   "mimetype": "text/x-python",
   "name": "python",
   "nbconvert_exporter": "python",
   "pygments_lexer": "ipython3",
   "version": "3.11.8"
  }
 },
 "nbformat": 4,
 "nbformat_minor": 2
}
